{
  "nbformat": 4,
  "nbformat_minor": 0,
  "metadata": {
    "colab": {
      "provenance": [],
      "authorship_tag": "ABX9TyNYB+CbC/keMavTvEMNQKyM",
      "include_colab_link": true
    },
    "kernelspec": {
      "name": "python3",
      "display_name": "Python 3"
    },
    "language_info": {
      "name": "python"
    }
  },
  "cells": [
    {
      "cell_type": "markdown",
      "metadata": {
        "id": "view-in-github",
        "colab_type": "text"
      },
      "source": [
        "<a href=\"https://colab.research.google.com/github/simulate111/Generative-Deep-Learning/blob/main/textbook_code_repository.ipynb\" target=\"_parent\"><img src=\"https://colab.research.google.com/assets/colab-badge.svg\" alt=\"Open In Colab\"/></a>"
      ]
    },
    {
      "cell_type": "code",
      "execution_count": null,
      "metadata": {
        "colab": {
          "base_uri": "https://localhost:8080/"
        },
        "id": "YMQV9GaSeINE",
        "outputId": "da8eaabe-4ba2-4037-e7fb-fcc2cc2dcf5f"
      },
      "outputs": [
        {
          "output_type": "stream",
          "name": "stdout",
          "text": [
            "Cloning into 'Generative_Deep_Learning_2nd_Edition'...\n",
            "remote: Enumerating objects: 653, done.\u001b[K\n",
            "remote: Counting objects: 100% (195/195), done.\u001b[K\n",
            "remote: Compressing objects: 100% (70/70), done.\u001b[K\n",
            "remote: Total 653 (delta 142), reused 125 (delta 125), pack-reused 458 (from 1)\u001b[K\n",
            "Receiving objects: 100% (653/653), 37.09 MiB | 9.25 MiB/s, done.\n",
            "Resolving deltas: 100% (377/377), done.\n"
          ]
        }
      ],
      "source": [
        "!git clone https://github.com/davidADSP/Generative_Deep_Learning_2nd_Edition.git"
      ]
    },
    {
      "cell_type": "code",
      "source": [
        "JUPYTER_PORT=8888\n",
        "TENSORBOARD_PORT=6006\n",
        "KAGGLE_USERNAME=<dreamgalaxy1>\n",
        "KAGGLE_KEY=<3ca1520211b0104762e9bb6bee695a83>"
      ],
      "metadata": {
        "id": "PXMyGg5Eg7oV"
      },
      "execution_count": null,
      "outputs": []
    },
    {
      "cell_type": "code",
      "source": [
        "JUPYTER_PORT=8888\n",
        "%env JUPYTER_PORT=8888\n",
        "%env TENSORBOARD_PORT=6006\n",
        "%env KAGGLE_USERNAME=<dreamgalaxy1>\n",
        "%env KAGGLE_KEY=<3ca1520211b0104762e9bb6bee695a83>"
      ],
      "metadata": {
        "colab": {
          "base_uri": "https://localhost:8080/"
        },
        "id": "2aSL_qaFfos_",
        "outputId": "02ed26ed-95ae-407a-af36-297be4496c94"
      },
      "execution_count": null,
      "outputs": [
        {
          "output_type": "stream",
          "name": "stdout",
          "text": [
            "env: JUPYTER_PORT=8888\n",
            "env: TENSORBOARD_PORT=6006\n",
            "env: KAGGLE_USERNAME=<dreamgalaxy1>\n",
            "env: KAGGLE_KEY=<3ca1520211b0104762e9bb6bee695a83>\n"
          ]
        }
      ]
    },
    {
      "cell_type": "code",
      "source": [
        "!docker compose build"
      ],
      "metadata": {
        "colab": {
          "base_uri": "https://localhost:8080/"
        },
        "id": "h0Dh3WdfgeOg",
        "outputId": "3deae861-c3d3-4dce-cfe3-3518c9a1284e"
      },
      "execution_count": null,
      "outputs": [
        {
          "output_type": "stream",
          "name": "stdout",
          "text": [
            "/bin/bash: line 1: docker: command not found\n"
          ]
        }
      ]
    },
    {
      "cell_type": "code",
      "source": [
        "!docker compose -f docker-compose.gpu.yml build"
      ],
      "metadata": {
        "colab": {
          "base_uri": "https://localhost:8080/"
        },
        "id": "z_KE1G5OgmQo",
        "outputId": "b9aee679-0d8e-4eb6-b63a-a4d1badcf8e9"
      },
      "execution_count": null,
      "outputs": [
        {
          "output_type": "stream",
          "name": "stdout",
          "text": [
            "/bin/bash: line 1: docker: command not found\n"
          ]
        }
      ]
    },
    {
      "cell_type": "code",
      "source": [],
      "metadata": {
        "id": "aZcTDwwrgrXA"
      },
      "execution_count": null,
      "outputs": []
    },
    {
      "cell_type": "code",
      "source": [
        "!docker compose -f docker-compose.gpu.yml up"
      ],
      "metadata": {
        "colab": {
          "base_uri": "https://localhost:8080/"
        },
        "id": "fpP9dYjwgras",
        "outputId": "e24e47e0-4b6c-436c-e7ba-f40f1e3a75c0"
      },
      "execution_count": null,
      "outputs": [
        {
          "output_type": "stream",
          "name": "stdout",
          "text": [
            "/bin/bash: line 1: docker: command not found\n"
          ]
        }
      ]
    },
    {
      "cell_type": "code",
      "source": [
        "!bash scripts/download.sh [faces, bricks, recipes, flowers, wines, cellosuites, chorales]"
      ],
      "metadata": {
        "colab": {
          "base_uri": "https://localhost:8080/"
        },
        "id": "R8iPmOj-hMLv",
        "outputId": "23569188-c2bd-4775-8328-db6c4dba14eb"
      },
      "execution_count": null,
      "outputs": [
        {
          "output_type": "stream",
          "name": "stdout",
          "text": [
            "bash: scripts/download.sh: No such file or directory\n"
          ]
        }
      ]
    }
  ]
}